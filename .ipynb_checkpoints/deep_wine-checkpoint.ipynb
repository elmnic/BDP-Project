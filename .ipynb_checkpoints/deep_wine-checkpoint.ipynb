{
 "cells": [
  {
   "cell_type": "code",
   "execution_count": 1,
   "metadata": {},
   "outputs": [
    {
     "name": "stderr",
     "output_type": "stream",
     "text": [
      "Using plaidml.keras.backend backend.\n"
     ]
    }
   ],
   "source": [
    "import platform\n",
    "import os\n",
    "\n",
    "if (platform.system() == 'Windows'):\n",
    "    os.environ[\"KERAS_BACKEND\"] = \"plaidml.keras.backend\"\n",
    "    \n",
    "from keras.models import Sequential\n",
    "from keras.layers import Dense, Activation, Embedding, GlobalAveragePooling1D, Flatten\n",
    "from keras.utils import plot_model, to_categorical\n",
    "from keras.models import load_model\n",
    "from keras.preprocessing.text import text_to_word_sequence, one_hot, hashing_trick\n",
    "from keras.preprocessing.sequence import pad_sequences\n",
    "from sklearn.metrics import confusion_matrix, classification_report\n",
    "from sklearn.preprocessing import LabelEncoder, OneHotEncoder\n",
    "from sklearn.utils import class_weight\n",
    "import matplotlib.pyplot as plt\n",
    "import numpy as np\n",
    "import pandas as pd\n",
    "import json"
   ]
  },
  {
   "cell_type": "code",
   "execution_count": 2,
   "metadata": {},
   "outputs": [],
   "source": [
    "data = pd.read_csv(\"wine_ml.csv\", \",\")\n",
    "keepWords = list(pd.read_csv(\"keepWords.csv\", \"\\n\"))"
   ]
  },
  {
   "cell_type": "code",
   "execution_count": 3,
   "metadata": {},
   "outputs": [],
   "source": [
    "train, validate, test = np.split(data.sample(frac=1), [int(.6*len(data)), int(.8*len(data))])"
   ]
  },
  {
   "cell_type": "code",
   "execution_count": 4,
   "metadata": {},
   "outputs": [
    {
     "name": "stdout",
     "output_type": "stream",
     "text": [
      "100\n",
      "19\n"
     ]
    }
   ],
   "source": [
    "vocab_size = 100\n",
    "classes = data['taster_name'].nunique()\n",
    "print(vocab_size)\n",
    "print(classes)"
   ]
  },
  {
   "cell_type": "code",
   "execution_count": 5,
   "metadata": {},
   "outputs": [],
   "source": [
    "# Label encoder for authors/tasters\n",
    "labelEncoder = LabelEncoder()\n",
    "enc_train = labelEncoder.fit_transform(train['taster_name']).reshape(len(train['taster_name']), -1)\n",
    "enc_validate = labelEncoder.fit_transform(validate['taster_name']).reshape(len(validate['taster_name']), -1)\n",
    "enc_test = labelEncoder.fit_transform(test['taster_name']).reshape(len(test['taster_name']), -1)\n",
    "\n",
    "# One Hot encoder for authors/tasters\n",
    "oneHotEncoderAuthor = OneHotEncoder(categories='auto', sparse=True, dtype=int)\n",
    "y_train = pd.DataFrame(oneHotEncoderAuthor.fit_transform(enc_train).todense())\n",
    "y_validate = pd.DataFrame(oneHotEncoderAuthor.fit_transform(enc_validate).todense())\n",
    "y_test = pd.DataFrame(oneHotEncoderAuthor.fit_transform(enc_test).todense())"
   ]
  },
  {
   "cell_type": "code",
   "execution_count": 6,
   "metadata": {},
   "outputs": [],
   "source": [
    "def rowFunc(row):\n",
    "    return hashing_trick(row, vocab_size, hash_function='md5')"
   ]
  },
  {
   "cell_type": "code",
   "execution_count": 7,
   "metadata": {
    "scrolled": true
   },
   "outputs": [],
   "source": [
    "train_hashed = train['text'].apply(rowFunc)\n",
    "validate_hashed = validate['text'].apply(rowFunc)\n",
    "test_hashed = test['text'].apply(rowFunc)"
   ]
  },
  {
   "cell_type": "code",
   "execution_count": 8,
   "metadata": {},
   "outputs": [],
   "source": [
    "#reviewsHashed[:5]"
   ]
  },
  {
   "cell_type": "code",
   "execution_count": 9,
   "metadata": {},
   "outputs": [],
   "source": [
    "#reviewsSorted = np.array(reviewsHashed.apply(np.sort))"
   ]
  },
  {
   "cell_type": "code",
   "execution_count": 50,
   "metadata": {},
   "outputs": [],
   "source": [
    "# Fill rows with 1's and 0's\n",
    "def padRows(row):\n",
    "    work_list = np.array(row)\n",
    "    new_list = np.zeros(vocab_size, dtype=int)\n",
    "    new_list[work_list - 1] = 1\n",
    "    return new_list"
   ]
  },
  {
   "cell_type": "code",
   "execution_count": 57,
   "metadata": {},
   "outputs": [],
   "source": [
    "# Init zero arrays\n",
    "x_train = np.zeros(shape=(len(train_hashed), vocab_size), dtype=int)\n",
    "x_validate = np.zeros(shape=(len(validate_hashed), vocab_size), dtype=int)\n",
    "x_test = np.zeros(shape=(len(test_hashed), vocab_size), dtype=int)\n",
    "\n",
    "# Pad data\n",
    "x_train = pd.DataFrame(\n",
    "    pad_sequences(train_hashed, maxlen=vocab_size, dtype='int', value=0))\n",
    "\n",
    "x_validate = pd.DataFrame(\n",
    "    pad_sequences(validate_hashed, maxlen=vocab_size, dtype='int', value=0))\n",
    "\n",
    "x_test = pd.DataFrame(\n",
    "    pad_sequences(test_hashed, maxlen=vocab_size, dtype='int', value=0))"
   ]
  },
  {
   "cell_type": "code",
   "execution_count": 58,
   "metadata": {},
   "outputs": [],
   "source": [
    "train_class_weights = class_weight.compute_class_weight('balanced',\n",
    "                                                 np.unique(train['taster_name']),\n",
    "                                                 train['taster_name'])"
   ]
  },
  {
   "cell_type": "code",
   "execution_count": 59,
   "metadata": {},
   "outputs": [
    {
     "name": "stdout",
     "output_type": "stream",
     "text": [
      "Distribution of true labels in train set\n",
      "0       234\n",
      "1      2639\n",
      "2      2218\n",
      "3        78\n",
      "4         1\n",
      "5        18\n",
      "6       279\n",
      "7      2525\n",
      "8      3035\n",
      "9      6475\n",
      "10     1078\n",
      "11     3859\n",
      "12     9060\n",
      "13      305\n",
      "14     5759\n",
      "15    15369\n",
      "16     3004\n",
      "17      642\n",
      "18     5651\n",
      "dtype: int64\n"
     ]
    }
   ],
   "source": [
    "print(\"Distribution of true labels in train set\")\n",
    "print(y_train.sum())"
   ]
  },
  {
   "cell_type": "code",
   "execution_count": 60,
   "metadata": {},
   "outputs": [
    {
     "data": {
      "text/html": [
       "<div>\n",
       "<style scoped>\n",
       "    .dataframe tbody tr th:only-of-type {\n",
       "        vertical-align: middle;\n",
       "    }\n",
       "\n",
       "    .dataframe tbody tr th {\n",
       "        vertical-align: top;\n",
       "    }\n",
       "\n",
       "    .dataframe thead th {\n",
       "        text-align: right;\n",
       "    }\n",
       "</style>\n",
       "<table border=\"1\" class=\"dataframe\">\n",
       "  <thead>\n",
       "    <tr style=\"text-align: right;\">\n",
       "      <th></th>\n",
       "      <th>0</th>\n",
       "      <th>1</th>\n",
       "      <th>2</th>\n",
       "      <th>3</th>\n",
       "      <th>4</th>\n",
       "      <th>5</th>\n",
       "      <th>6</th>\n",
       "      <th>7</th>\n",
       "      <th>8</th>\n",
       "      <th>9</th>\n",
       "      <th>...</th>\n",
       "      <th>90</th>\n",
       "      <th>91</th>\n",
       "      <th>92</th>\n",
       "      <th>93</th>\n",
       "      <th>94</th>\n",
       "      <th>95</th>\n",
       "      <th>96</th>\n",
       "      <th>97</th>\n",
       "      <th>98</th>\n",
       "      <th>99</th>\n",
       "    </tr>\n",
       "  </thead>\n",
       "  <tbody>\n",
       "    <tr>\n",
       "      <th>0</th>\n",
       "      <td>0</td>\n",
       "      <td>0</td>\n",
       "      <td>0</td>\n",
       "      <td>0</td>\n",
       "      <td>0</td>\n",
       "      <td>0</td>\n",
       "      <td>0</td>\n",
       "      <td>0</td>\n",
       "      <td>0</td>\n",
       "      <td>0</td>\n",
       "      <td>...</td>\n",
       "      <td>0</td>\n",
       "      <td>0</td>\n",
       "      <td>78</td>\n",
       "      <td>11</td>\n",
       "      <td>54</td>\n",
       "      <td>38</td>\n",
       "      <td>63</td>\n",
       "      <td>1</td>\n",
       "      <td>53</td>\n",
       "      <td>97</td>\n",
       "    </tr>\n",
       "  </tbody>\n",
       "</table>\n",
       "<p>1 rows × 100 columns</p>\n",
       "</div>"
      ],
      "text/plain": [
       "   0   1   2   3   4   5   6   7   8   9   ...  90  91  92  93  94  95  96  \\\n",
       "0   0   0   0   0   0   0   0   0   0   0  ...   0   0  78  11  54  38  63   \n",
       "\n",
       "   97  98  99  \n",
       "0   1  53  97  \n",
       "\n",
       "[1 rows x 100 columns]"
      ]
     },
     "execution_count": 60,
     "metadata": {},
     "output_type": "execute_result"
    }
   ],
   "source": [
    "x_train[:1]"
   ]
  },
  {
   "cell_type": "code",
   "execution_count": 61,
   "metadata": {},
   "outputs": [
    {
     "name": "stdout",
     "output_type": "stream",
     "text": [
      "_________________________________________________________________\n",
      "Layer (type)                 Output Shape              Param #   \n",
      "=================================================================\n",
      "embedding_3 (Embedding)      (None, 100, 250)          25000     \n",
      "_________________________________________________________________\n",
      "flatten_3 (Flatten)          (None, 25000)             0         \n",
      "_________________________________________________________________\n",
      "dense_11 (Dense)             (None, 250)               6250250   \n",
      "_________________________________________________________________\n",
      "dense_12 (Dense)             (None, 135)               33885     \n",
      "_________________________________________________________________\n",
      "dense_13 (Dense)             (None, 50)                6800      \n",
      "_________________________________________________________________\n",
      "dense_14 (Dense)             (None, 19)                969       \n",
      "=================================================================\n",
      "Total params: 6,316,904\n",
      "Trainable params: 6,316,904\n",
      "Non-trainable params: 0\n",
      "_________________________________________________________________\n"
     ]
    }
   ],
   "source": [
    "model = Sequential()\n",
    "model.add(Embedding(vocab_size, 100, input_length=vocab_size))\n",
    "model.add(Flatten())\n",
    "#model.add(Dense(500, input_shape=(vocab_size,)))\n",
    "model.add(Dense(250, activation='relu'))\n",
    "#model.add(Dense(175, activation='relu'))\n",
    "model.add(Dense(135, activation='relu'))\n",
    "#model.add(Dense(100, activation='relu'))\n",
    "model.add(Dense(50, activation='relu'))\n",
    "model.add(Dense(classes, activation='softmax'))\n",
    "# model.add(Dense(64, input_dim=64))\n",
    "# model.add(Activation('relu'))\n",
    "# model.add(Dense(5000))\n",
    "# model.add(Activation('relu'))\n",
    "# model.add(Dense(2500))\n",
    "# model.add(Activation('relu'))\n",
    "# model.add(Dense(1250))\n",
    "# model.add(Activation('relu'))\n",
    "# model.add(Dense(625))\n",
    "# model.add(Activation('relu'))\n",
    "# model.add(Dense(20))\n",
    "# model.add(Activation('sigmoid'))\n",
    "\n",
    "model.compile(\n",
    "    optimizer='sgd',\n",
    "    loss='categorical_crossentropy', # Categorical classification\n",
    "    metrics=['accuracy']\n",
    "    )\n",
    "model.summary()"
   ]
  },
  {
   "cell_type": "code",
   "execution_count": 64,
   "metadata": {},
   "outputs": [],
   "source": [
    "epochs=15\n",
    "batchSize=20"
   ]
  },
  {
   "cell_type": "code",
   "execution_count": 65,
   "metadata": {},
   "outputs": [
    {
     "name": "stdout",
     "output_type": "stream",
     "text": [
      "Train on 62229 samples, validate on 20743 samples\n",
      "Epoch 1/15\n",
      "62229/62229 [==============================] - 70s 1ms/step - loss: 2.1296 - acc: 0.3254 - val_loss: 1.8185 - val_acc: 0.4337\n",
      "Epoch 2/15\n",
      "62229/62229 [==============================] - 64s 1ms/step - loss: 1.5696 - acc: 0.5029 - val_loss: 1.4989 - val_acc: 0.5269\n",
      "Epoch 3/15\n",
      "62229/62229 [==============================] - 64s 1ms/step - loss: 1.3452 - acc: 0.5767 - val_loss: 1.3025 - val_acc: 0.5992\n",
      "Epoch 4/15\n",
      "62229/62229 [==============================] - 64s 1ms/step - loss: 1.1147 - acc: 0.6556 - val_loss: 1.0724 - val_acc: 0.6701\n",
      "Epoch 5/15\n",
      "62229/62229 [==============================] - 64s 1ms/step - loss: 0.9878 - acc: 0.6939 - val_loss: 1.0091 - val_acc: 0.6883\n",
      "Epoch 6/15\n",
      "62229/62229 [==============================] - 64s 1ms/step - loss: 0.9217 - acc: 0.7135 - val_loss: 0.9724 - val_acc: 0.7000\n",
      "Epoch 7/15\n",
      "62229/62229 [==============================] - 64s 1ms/step - loss: 0.8736 - acc: 0.7288 - val_loss: 0.9176 - val_acc: 0.7161\n",
      "Epoch 8/15\n",
      "62229/62229 [==============================] - 64s 1ms/step - loss: 0.8352 - acc: 0.7389 - val_loss: 0.9050 - val_acc: 0.7196\n",
      "Epoch 9/15\n",
      "62229/62229 [==============================] - 64s 1ms/step - loss: 0.8023 - acc: 0.7475 - val_loss: 0.8859 - val_acc: 0.7265\n",
      "Epoch 10/15\n",
      "62229/62229 [==============================] - 64s 1ms/step - loss: 0.7717 - acc: 0.7573 - val_loss: 0.8940 - val_acc: 0.7216\n",
      "Epoch 11/15\n",
      "62229/62229 [==============================] - 64s 1ms/step - loss: 0.7444 - acc: 0.7644 - val_loss: 0.8491 - val_acc: 0.7367\n",
      "Epoch 12/15\n",
      "62229/62229 [==============================] - 64s 1ms/step - loss: 0.7165 - acc: 0.7725 - val_loss: 0.8530 - val_acc: 0.7338\n",
      "Epoch 13/15\n",
      "62229/62229 [==============================] - 64s 1ms/step - loss: 0.6899 - acc: 0.7808 - val_loss: 0.8419 - val_acc: 0.7401\n",
      "Epoch 14/15\n",
      "62229/62229 [==============================] - 64s 1ms/step - loss: 0.6613 - acc: 0.7905 - val_loss: 0.8317 - val_acc: 0.7422\n",
      "Epoch 15/15\n",
      "62229/62229 [==============================] - 64s 1ms/step - loss: 0.6318 - acc: 0.7984 - val_loss: 0.8349 - val_acc: 0.7422\n"
     ]
    }
   ],
   "source": [
    "history = model.fit(\n",
    "    x_train, y_train,\n",
    "    validation_data=(x_validate, y_validate),\n",
    "    epochs=epochs,\n",
    "    batch_size=batchSize,\n",
    "    class_weight=train_class_weights\n",
    "    )"
   ]
  },
  {
   "cell_type": "code",
   "execution_count": 66,
   "metadata": {},
   "outputs": [
    {
     "name": "stdout",
     "output_type": "stream",
     "text": [
      "20744/20744 [==============================] - 11s 507us/step\n"
     ]
    },
    {
     "data": {
      "text/plain": [
       "[0.8344008716845485, 0.7396355682572388]"
      ]
     },
     "execution_count": 66,
     "metadata": {},
     "output_type": "execute_result"
    }
   ],
   "source": [
    "model.evaluate(x_test, y_test, batch_size=batchSize)"
   ]
  },
  {
   "cell_type": "code",
   "execution_count": null,
   "metadata": {},
   "outputs": [],
   "source": [
    "#model = load_model('./models/epochs(10)_batch(20)_top100_cat_ent_sgd_embedding.h5')"
   ]
  },
  {
   "cell_type": "code",
   "execution_count": 67,
   "metadata": {},
   "outputs": [
    {
     "name": "stdout",
     "output_type": "stream",
     "text": [
      "20744/20744 [==============================] - 9s 449us/step\n"
     ]
    }
   ],
   "source": [
    "predictions = model.predict(x_test, batch_size=batchSize, verbose=True)\n",
    "y_pred = predictions.argmax(1)\n",
    "y_true = y_test.values.argmax(1)"
   ]
  },
  {
   "cell_type": "code",
   "execution_count": 68,
   "metadata": {},
   "outputs": [
    {
     "name": "stdout",
     "output_type": "stream",
     "text": [
      "              precision    recall  f1-score   support\n",
      "\n",
      "           0       0.17      0.01      0.02        83\n",
      "           1       0.71      0.55      0.62       903\n",
      "           2       0.66      0.66      0.66       726\n",
      "           3       0.00      0.00      0.00        29\n",
      "           4       0.00      0.00      0.00         4\n",
      "           5       0.00      0.00      0.00         3\n",
      "           6       0.37      0.07      0.11       103\n",
      "           7       0.82      0.66      0.73       815\n",
      "           8       0.57      0.50      0.53      1065\n",
      "           9       0.89      0.88      0.88      2147\n",
      "          10       0.51      0.41      0.45       377\n",
      "          11       0.74      0.73      0.74      1220\n",
      "          12       0.82      0.83      0.83      3006\n",
      "          13       0.51      0.35      0.42       105\n",
      "          14       0.50      0.70      0.58      1904\n",
      "          15       0.85      0.89      0.87      5103\n",
      "          16       0.72      0.83      0.77       984\n",
      "          17       0.63      0.39      0.48       233\n",
      "          18       0.63      0.53      0.57      1934\n",
      "\n",
      "   micro avg       0.74      0.74      0.74     20744\n",
      "   macro avg       0.53      0.47      0.49     20744\n",
      "weighted avg       0.74      0.74      0.73     20744\n",
      "\n"
     ]
    }
   ],
   "source": [
    "print(classification_report(y_true, y_pred))"
   ]
  },
  {
   "cell_type": "code",
   "execution_count": 69,
   "metadata": {},
   "outputs": [],
   "source": [
    "settings = 'epochs(' + str(epochs) + ')_batch(' + str(batchSize) + ')_corrsplit_weighted_embd(100)'"
   ]
  },
  {
   "cell_type": "code",
   "execution_count": 70,
   "metadata": {},
   "outputs": [],
   "source": [
    "model.save('./models/' + settings + '.h5')"
   ]
  },
  {
   "cell_type": "code",
   "execution_count": 71,
   "metadata": {},
   "outputs": [],
   "source": [
    "with open('./history/history_' + settings + '.json', 'w') as file:\n",
    "    json.dump(history.history, file)"
   ]
  },
  {
   "cell_type": "code",
   "execution_count": 72,
   "metadata": {},
   "outputs": [
    {
     "data": {
      "image/png": "[encoded data removed]",
      "text/plain": [
       "<Figure size 432x288 with 1 Axes>"
      ]
     },
     "metadata": {
      "needs_background": "light"
     },
     "output_type": "display_data"
    },
    {
     "data": {
      "image/png": "[encoded data removed]",
      "text/plain": [
       "<Figure size 432x288 with 1 Axes>"
      ]
     },
     "metadata": {
      "needs_background": "light"
     },
     "output_type": "display_data"
    }
   ],
   "source": [
    "plt.plot(history.history['acc'], '-s')\n",
    "plt.plot(history.history['val_acc'], '-s')\n",
    "plt.title('Model accuracy')\n",
    "plt.ylabel('Accuracy')\n",
    "plt.xlabel('Epoch')\n",
    "plt.legend(['Train', 'Val'], loc='upper left')\n",
    "plt.ylim(bottom=0, top=1)\n",
    "plt.savefig('./pics/' + settings + '_acc.png')\n",
    "plt.figure()\n",
    "\n",
    "plt.plot(history.history['loss'], '-s')\n",
    "plt.plot(history.history['val_loss'], '-s')\n",
    "plt.title('Model loss')\n",
    "plt.ylabel('Loss')\n",
    "plt.xlabel('Epoch')\n",
    "plt.legend(['Train', 'Val'], loc='upper right')\n",
    "plt.ylim(bottom=0)\n",
    "plt.savefig('./pics/' + settings + '_loss.png')\n",
    "plt.show()"
   ]
  },
  {
   "cell_type": "code",
   "execution_count": null,
   "metadata": {},
   "outputs": [],
   "source": []
  }
 ],
 "metadata": {
  "kernelspec": {
   "display_name": "Python 3",
   "language": "python",
   "name": "python3"
  },
  "language_info": {
   "codemirror_mode": {
    "name": "ipython",
    "version": 3
   },
   "file_extension": ".py",
   "mimetype": "text/x-python",
   "name": "python",
   "nbconvert_exporter": "python",
   "pygments_lexer": "ipython3",
   "version": "3.6.8"
  }
 },
 "nbformat": 4,
 "nbformat_minor": 2
}
